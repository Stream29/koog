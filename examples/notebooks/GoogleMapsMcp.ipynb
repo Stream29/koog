{
 "cells": [
  {
   "metadata": {},
   "cell_type": "markdown",
   "source": [
    "# Google Maps MCP with Koog: From Zero to Elevation in a Kotlin Notebook\n",
    "\n",
    "In this short, blog-style walkthrough, we’ll connect Koog to a Model Context Protocol (MCP) server for Google Maps. We’ll spin up the server with Docker, discover the available tools, and let an AI agent geocode an address and fetch its elevation — all from a Kotlin Notebook.\n",
    "\n",
    "By the end, you’ll have a reproducible, end‑to‑end example you can drop into your workflow or documentation.\n"
   ]
  },
  {
   "metadata": {},
   "cell_type": "code",
   "outputs": [],
   "execution_count": null,
   "source": [
    "%useLatestDescriptors\n",
    "%use koog\n"
   ]
  },
  {
   "metadata": {},
   "cell_type": "markdown",
   "source": [
    "## Prerequisites\n",
    "Before you run the cells below, make sure you have:\n",
    "\n",
    "- Docker installed and running\n",
    "- A valid Google Maps API key exported as an environment variable: `GOOGLE_MAPS_API_KEY`\n",
    "- An OpenAI API key exported as `OPENAI_API_KEY`\n",
    "\n",
    "You can set them in your shell like this (macOS/Linux example):\n",
    "\n",
    "```bash\n",
    "export GOOGLE_MAPS_API_KEY=\"<your-key>\"\n",
    "export OPENAI_API_KEY=\"<your-openai-key>\"\n",
    "```\n"
   ]
  },
  {
   "metadata": {},
   "cell_type": "code",
   "outputs": [],
   "execution_count": null,
   "source": [
    "// Get the API key from environment variables\n",
    "val googleMapsApiKey = System.getenv(\"GOOGLE_MAPS_API_KEY\") ?: error(\"GOOGLE_MAPS_API_KEY environment variable not set\")\n",
    "val openAIApiToken = System.getenv(\"OPENAI_API_KEY\") ?: error(\"OPENAI_API_KEY environment variable not set\")\n"
   ]
  },
  {
   "metadata": {},
   "cell_type": "markdown",
   "source": [
    "## Start the Google Maps MCP server (Docker)\n",
    "We’ll use the official `mcp/google-maps` image. The container will expose tools such as `maps_geocode` and `maps_elevation` over MCP. We pass the API key via environment variables and launch it attached so the notebook can talk to it over stdio.\n"
   ]
  },
  {
   "metadata": {},
   "cell_type": "code",
   "outputs": [],
   "execution_count": null,
   "source": [
    "// Start the Docker container with the Google Maps MCP server\n",
    "val process = ProcessBuilder(\n",
    "    \"docker\",\n",
    "    \"run\",\n",
    "    \"-i\",\n",
    "    \"-e\",\n",
    "    \"GOOGLE_MAPS_API_KEY=$googleMapsApiKey\",\n",
    "    \"mcp/google-maps\"\n",
    ").start()\n"
   ]
  },
  {
   "metadata": {},
   "cell_type": "markdown",
   "source": [
    "## Discover tools via McpToolRegistry\n",
    "Koog can connect to an MCP server over stdio. Here, we create a tool registry from the running process and print out the discovered tools and their descriptors.\n"
   ]
  },
  {
   "metadata": {},
   "cell_type": "code",
   "outputs": [],
   "execution_count": null,
   "source": [
    "val toolRegistry = McpToolRegistryProvider.fromTransport(\n",
    "    transport = McpToolRegistryProvider.defaultStdioTransport(process)\n",
    ")\n",
    "toolRegistry.tools.forEach {\n",
    "    println(it.name)\n",
    "    println(it.descriptor)\n",
    "}\n"
   ]
  },
  {
   "metadata": {},
   "cell_type": "markdown",
   "source": [
    "## Build an AI Agent with OpenAI\n",
    "Next we assemble a simple agent backed by the OpenAI executor and model. The agent will be able to call tools exposed by the MCP server through the registry we just created.\n"
   ]
  },
  {
   "metadata": {},
   "cell_type": "code",
   "outputs": [],
   "execution_count": null,
   "source": [
    "val agent = AIAgent(\n",
    "    executor = simpleOpenAIExecutor(openAIApiToken),\n",
    "    llmModel = OpenAIModels.Chat.GPT4o,\n",
    "    toolRegistry = toolRegistry,\n",
    ")\n"
   ]
  },
  {
   "metadata": {},
   "cell_type": "markdown",
   "source": [
    "## Ask for elevation: geocode first, then elevation\n",
    "We prompt the agent to find the elevation of the JetBrains office in Munich. The instruction explicitly tells the agent to use only the available tools and which ones to prefer for the task.\n"
   ]
  },
  {
   "metadata": {},
   "cell_type": "code",
   "outputs": [],
   "execution_count": null,
   "source": [
    "import kotlinx.coroutines.runBlocking\n",
    "\n",
    "val request = \"Get elevation of the Jetbrains Office in Munich, Germany?\"\n",
    "runBlocking {\n",
    "    agent.run(\n",
    "        request +\n",
    "            \"You can only call tools. Get it by calling maps_geocode and maps_elevation tools.\"\n",
    "    )\n",
    "}\n"
   ]
  },
  {
   "metadata": {},
   "cell_type": "markdown",
   "source": [
    "## Clean up\n",
    "When you’re done, stop the Docker process so you don’t leave anything running in the background.\n"
   ]
  },
  {
   "metadata": {},
   "cell_type": "code",
   "outputs": [],
   "execution_count": null,
   "source": "process.destroy()\n"
  },
  {
   "metadata": {},
   "cell_type": "markdown",
   "source": [
    "## Troubleshooting and next steps\n",
    "- If the container fails to start, check that Docker is running and your `GOOGLE_MAPS_API_KEY` is valid.\n",
    "- If the agent can’t call tools, re-run the discovery cell to ensure the tool registry is populated.\n",
    "- Try other prompts like route planning or place searches using the available Google Maps tools.\n",
    "\n",
    "Next, consider composing multiple MCP servers (e.g., Playwright for web automation + Google Maps) and let Koog orchestrate tool usage for richer tasks."
   ]
  }
 ],
 "metadata": {
  "kernelspec": {
   "display_name": "Kotlin",
   "language": "kotlin",
   "name": "kotlin"
  },
  "language_info": {
   "name": "kotlin",
   "version": "2.2.20-Beta2",
   "mimetype": "text/x-kotlin",
   "file_extension": ".kt",
   "pygments_lexer": "kotlin",
   "codemirror_mode": "text/x-kotlin",
   "nbconvert_exporter": ""
  }
 },
 "nbformat": 4,
 "nbformat_minor": 0
}
