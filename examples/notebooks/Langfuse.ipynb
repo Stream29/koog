{
 "cells": [
  {
   "metadata": {},
   "cell_type": "markdown",
   "source": [
    "# Tracing Koog Agents to Langfuse with OpenTelemetry\n",
    "\n",
    "This notebook shows how to export Koog agent traces to your Langfuse instance using OpenTelemetry. You'll set up environment variables, run a simple agent, and then inspect spans and traces in Langfuse.\n",
    "\n",
    "## What you'll learn\n",
    "\n",
    "- How Koog integrates with OpenTelemetry to emit traces\n",
    "- How to configure the Langfuse exporter via environment variables\n",
    "- How to run an agent and view its trace in Langfuse\n",
    "\n",
    "## Prerequisites\n",
    "\n",
    "- A Langfuse project (host URL, public key, secret key)\n",
    "- An OpenAI API key for the LLM executor\n",
    "- Environment variables set in your shell:\n",
    "\n",
    "```bash\n",
    "export OPENAI_API_KEY=sk-...\n",
    "export LANGFUSE_HOST=https://cloud.langfuse.com # or your self-hosted URL\n",
    "export LANGFUSE_PUBLIC_KEY=pk_...\n",
    "export LANGFUSE_SECRET_KEY=sk_...\n",
    "```\n"
   ]
  },
  {
   "metadata": {},
   "cell_type": "code",
   "outputs": [],
   "execution_count": null,
   "source": [
    "%useLatestDescriptors\n",
    "//%use koog"
   ]
  },
  {
   "metadata": {},
   "cell_type": "code",
   "source": [
    "import ai.koog.agents.core.agent.AIAgent\n",
    "import ai.koog.agents.features.opentelemetry.feature.OpenTelemetry\n",
    "import ai.koog.agents.features.opentelemetry.integration.langfuse.addLangfuseExporter\n",
    "import ai.koog.prompt.executor.clients.openai.OpenAIModels\n",
    "import ai.koog.prompt.executor.llms.all.simpleOpenAIExecutor\n",
    "\n",
    "/**\n",
    " * Example of Koog agents tracing to [Langfuse](https://langfuse.com/)\n",
    " *\n",
    " * Agent traces are exported to:\n",
    " * - Langfuse OTLP endpoint instance using [OtlpHttpSpanExporter]\n",
    " *\n",
    " * To run this example:\n",
    " *  1. Set up a Langfuse project and credentials as described [here](https://langfuse.com/docs/get-started#create-new-project-in-langfuse)\n",
    " *  2. Get Langfuse credentials as described [here](https://langfuse.com/faq/all/where-are-langfuse-api-keys)\n",
    " *  3. Set `LANGFUSE_HOST`, `LANGFUSE_PUBLIC_KEY`, and `LANGFUSE_SECRET_KEY` environment variables\n",
    " *\n",
    " * @see <a href=\"https://langfuse.com/docs/opentelemetry/get-started#opentelemetry-endpoint\">Langfuse OpenTelemetry Docs</a>\n",
    " */\n",
    "val agent = AIAgent(\n",
    "    executor = simpleOpenAIExecutor(System.getenv(\"OPENAI_API_KEY\")),\n",
    "    llmModel = OpenAIModels.Reasoning.GPT4oMini,\n",
    "    systemPrompt = \"You are a code assistant. Provide concise code examples.\"\n",
    ") {\n",
    "    install(OpenTelemetry) {\n",
    "        addLangfuseExporter()\n",
    "    }\n",
    "}"
   ],
   "outputs": [],
   "execution_count": null
  },
  {
   "metadata": {},
   "cell_type": "markdown",
   "source": [
    "## Configure the agent and Langfuse exporter\n",
    "\n",
    "In the next cell, we:\n",
    "\n",
    "- Create an AIAgent that uses OpenAI as the LLM executor\n",
    "- Install the OpenTelemetry feature and add the Langfuse exporter\n",
    "- Rely on environment variables for Langfuse configuration\n",
    "\n",
    "Under the hood, Koog emits spans for agent lifecycle, LLM calls, and tool execution (if any). The Langfuse exporter ships those spans to your Langfuse instance via the OpenTelemetry endpoint.\n"
   ]
  },
  {
   "metadata": {},
   "cell_type": "code",
   "outputs": [],
   "execution_count": null,
   "source": [
    "import kotlinx.coroutines.runBlocking\n",
    "\n",
    "println(\"Running agent with Langfuse tracing\")\n",
    "\n",
    "runBlocking {\n",
    "    val result = agent.run(\"Tell me a joke about programming\")\n",
    "    \"Result: $result\\nSee traces on the Langfuse instance\"\n",
    "}\n"
   ]
  },
  {
   "metadata": {},
   "cell_type": "markdown",
   "source": [
    "## Run the agent and view traces\n",
    "\n",
    "Execute the next cell to trigger a simple prompt. This will generate spans that are exported to your Langfuse project.\n",
    "\n",
    "### Where to look in Langfuse\n",
    "\n",
    "1. Open your Langfuse dashboard and select your project\n",
    "2. Navigate to the Traces/Spans view\n",
    "3. Look for recent entries around the time you ran this cell\n",
    "4. Drill down into spans to see:\n",
    "   - Agent lifecycle events\n",
    "   - LLM request/response metadata\n",
    "   - Errors (if any)\n",
    "\n",
    "### Troubleshooting\n",
    "\n",
    "- No traces showing up?\n",
    "  - Double-check LANGFUSE_HOST, LANGFUSE_PUBLIC_KEY, LANGFUSE_SECRET_KEY\n",
    "  - Ensure your network allows outbound HTTPS to the Langfuse endpoint\n",
    "  - Verify your Langfuse project is active and keys belong to the correct project\n",
    "- Authentication errors\n",
    "  - Regenerate keys in Langfuse and update env vars\n",
    "- OpenAI issues\n",
    "  - Confirm OPENAI_API_KEY is set and valid\n"
   ]
  }
 ],
 "metadata": {
  "kernelspec": {
   "display_name": "Kotlin",
   "language": "kotlin",
   "name": "kotlin"
  },
  "language_info": {
   "name": "kotlin",
   "version": "2.2.20-Beta2",
   "mimetype": "text/x-kotlin",
   "file_extension": ".kt",
   "pygments_lexer": "kotlin",
   "codemirror_mode": "text/x-kotlin",
   "nbconvert_exporter": ""
  },
  "ktnbPluginMetadata": {
   "projectDependencies": [
    "koog-agents.examples.main"
   ],
   "projectLibraries": false
  }
 },
 "nbformat": 4,
 "nbformat_minor": 0
}
